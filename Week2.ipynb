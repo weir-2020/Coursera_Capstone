{
 "cells": [
  {
   "cell_type": "markdown",
   "metadata": {},
   "source": [
    "## Hi, I made only one notebook for all assignament. Thanks for you review!!!"
   ]
  },
  {
   "cell_type": "code",
   "execution_count": null,
   "metadata": {},
   "outputs": [],
   "source": [
    "import numpy as np \n",
    "import pandas as pd\n",
    "import matplotlib.cm as cm\n",
    "import json\n",
    "from geopy.geocoders import Nominatim\n",
    "import requests\n",
    "import matplotlib.pyplot as plt\n",
    "import geopandas as gpd\n",
    "from geopandas import GeoDataFrame\n",
    "from shapely.geometry import Point\n",
    "from pandas.io.json import json_normalize\n",
    "import matplotlib.cm as cm\n",
    "import matplotlib.colors as colors\n",
    "import sklearn\n",
    "from sklearn.cluster import KMeans\n",
    "from bs4 import BeautifulSoup\n",
    "import xml\n",
    "import folium\n",
    "print(\"Importados\")"
   ]
  },
  {
   "cell_type": "markdown",
   "metadata": {},
   "source": [
    "# <B> 1) Datas from Wikipedia page <B>"
   ]
  },
  {
   "cell_type": "code",
   "execution_count": 2,
   "metadata": {},
   "outputs": [
    {
     "name": "stdout",
     "output_type": "stream",
     "text": [
      "Hecho\n"
     ]
    }
   ],
   "source": [
    "url = requests.get('https://en.wikipedia.org/wiki/List_of_postal_codes_of_Canada:_M').text\n",
    "soup = BeautifulSoup(url,'lxml')\n",
    "print(\"Hecho\")"
   ]
  },
  {
   "cell_type": "code",
   "execution_count": 3,
   "metadata": {},
   "outputs": [
    {
     "data": {
      "text/html": [
       "<div>\n",
       "<style scoped>\n",
       "    .dataframe tbody tr th:only-of-type {\n",
       "        vertical-align: middle;\n",
       "    }\n",
       "\n",
       "    .dataframe tbody tr th {\n",
       "        vertical-align: top;\n",
       "    }\n",
       "\n",
       "    .dataframe thead th {\n",
       "        text-align: right;\n",
       "    }\n",
       "</style>\n",
       "<table border=\"1\" class=\"dataframe\">\n",
       "  <thead>\n",
       "    <tr style=\"text-align: right;\">\n",
       "      <th></th>\n",
       "      <th>Postcode</th>\n",
       "      <th>Borough</th>\n",
       "      <th>Neighbourhood</th>\n",
       "    </tr>\n",
       "  </thead>\n",
       "  <tbody>\n",
       "    <tr>\n",
       "      <th>0</th>\n",
       "      <td>M1A</td>\n",
       "      <td>Not assigned</td>\n",
       "      <td>Not assigned</td>\n",
       "    </tr>\n",
       "    <tr>\n",
       "      <th>1</th>\n",
       "      <td>M2A</td>\n",
       "      <td>Not assigned</td>\n",
       "      <td>Not assigned</td>\n",
       "    </tr>\n",
       "    <tr>\n",
       "      <th>2</th>\n",
       "      <td>M3A</td>\n",
       "      <td>North York</td>\n",
       "      <td>Parkwoods</td>\n",
       "    </tr>\n",
       "    <tr>\n",
       "      <th>3</th>\n",
       "      <td>M4A</td>\n",
       "      <td>North York</td>\n",
       "      <td>Victoria Village</td>\n",
       "    </tr>\n",
       "    <tr>\n",
       "      <th>4</th>\n",
       "      <td>M5A</td>\n",
       "      <td>Downtown Toronto</td>\n",
       "      <td>Regent Park, Harbourfront</td>\n",
       "    </tr>\n",
       "  </tbody>\n",
       "</table>\n",
       "</div>"
      ],
      "text/plain": [
       "  Postcode           Borough              Neighbourhood\n",
       "0      M1A      Not assigned               Not assigned\n",
       "1      M2A      Not assigned               Not assigned\n",
       "2      M3A        North York                  Parkwoods\n",
       "3      M4A        North York           Victoria Village\n",
       "4      M5A  Downtown Toronto  Regent Park, Harbourfront"
      ]
     },
     "execution_count": 3,
     "metadata": {},
     "output_type": "execute_result"
    }
   ],
   "source": [
    "post_codes = soup.find('table')\n",
    "fields = post_codes.find_all('td')\n",
    "\n",
    "post_codes_t = []\n",
    "borough = []\n",
    "neighbourhood = []\n",
    "\n",
    "for i in range(0, len(fields), 3):\n",
    "    post_codes_t.append(fields[i].text.strip())\n",
    "    borough.append(fields[i+1].text.strip())\n",
    "    neighbourhood.append(fields[i+2].text.strip())\n",
    "        \n",
    "dfpostC = pd.DataFrame(data=[post_codes_t, borough, neighbourhood]).transpose()\n",
    "dfpostC.columns = ['Postcode', 'Borough', 'Neighbourhood']\n",
    "dfpostC.head()"
   ]
  },
  {
   "cell_type": "markdown",
   "metadata": {},
   "source": [
    "## This is the final output to first part"
   ]
  },
  {
   "cell_type": "code",
   "execution_count": 4,
   "metadata": {},
   "outputs": [
    {
     "data": {
      "text/html": [
       "<div>\n",
       "<style scoped>\n",
       "    .dataframe tbody tr th:only-of-type {\n",
       "        vertical-align: middle;\n",
       "    }\n",
       "\n",
       "    .dataframe tbody tr th {\n",
       "        vertical-align: top;\n",
       "    }\n",
       "\n",
       "    .dataframe thead th {\n",
       "        text-align: right;\n",
       "    }\n",
       "</style>\n",
       "<table border=\"1\" class=\"dataframe\">\n",
       "  <thead>\n",
       "    <tr style=\"text-align: right;\">\n",
       "      <th></th>\n",
       "      <th>Postcode</th>\n",
       "      <th>Borough</th>\n",
       "      <th>Neighbourhood</th>\n",
       "    </tr>\n",
       "  </thead>\n",
       "  <tbody>\n",
       "    <tr>\n",
       "      <th>2</th>\n",
       "      <td>M3A</td>\n",
       "      <td>North York</td>\n",
       "      <td>Parkwoods</td>\n",
       "    </tr>\n",
       "    <tr>\n",
       "      <th>3</th>\n",
       "      <td>M4A</td>\n",
       "      <td>North York</td>\n",
       "      <td>Victoria Village</td>\n",
       "    </tr>\n",
       "    <tr>\n",
       "      <th>4</th>\n",
       "      <td>M5A</td>\n",
       "      <td>Downtown Toronto</td>\n",
       "      <td>Regent Park, Harbourfront</td>\n",
       "    </tr>\n",
       "    <tr>\n",
       "      <th>5</th>\n",
       "      <td>M6A</td>\n",
       "      <td>North York</td>\n",
       "      <td>Lawrence Manor, Lawrence Heights</td>\n",
       "    </tr>\n",
       "    <tr>\n",
       "      <th>6</th>\n",
       "      <td>M7A</td>\n",
       "      <td>Downtown Toronto</td>\n",
       "      <td>Queen's Park, Ontario Provincial Government</td>\n",
       "    </tr>\n",
       "  </tbody>\n",
       "</table>\n",
       "</div>"
      ],
      "text/plain": [
       "  Postcode           Borough                                Neighbourhood\n",
       "2      M3A        North York                                    Parkwoods\n",
       "3      M4A        North York                             Victoria Village\n",
       "4      M5A  Downtown Toronto                    Regent Park, Harbourfront\n",
       "5      M6A        North York             Lawrence Manor, Lawrence Heights\n",
       "6      M7A  Downtown Toronto  Queen's Park, Ontario Provincial Government"
      ]
     },
     "execution_count": 4,
     "metadata": {},
     "output_type": "execute_result"
    }
   ],
   "source": [
    "dfpostC['Borough'].replace('Not assigned', np.nan, inplace=True)\n",
    "dfpostC.dropna(subset=['Borough'], inplace=True)\n",
    "\n",
    "dfpostC.head()"
   ]
  },
  {
   "cell_type": "code",
   "execution_count": 5,
   "metadata": {},
   "outputs": [
    {
     "data": {
      "text/html": [
       "<div>\n",
       "<style scoped>\n",
       "    .dataframe tbody tr th:only-of-type {\n",
       "        vertical-align: middle;\n",
       "    }\n",
       "\n",
       "    .dataframe tbody tr th {\n",
       "        vertical-align: top;\n",
       "    }\n",
       "\n",
       "    .dataframe thead th {\n",
       "        text-align: right;\n",
       "    }\n",
       "</style>\n",
       "<table border=\"1\" class=\"dataframe\">\n",
       "  <thead>\n",
       "    <tr style=\"text-align: right;\">\n",
       "      <th></th>\n",
       "      <th>Postcode</th>\n",
       "      <th>Borough</th>\n",
       "      <th>Neighbourhood</th>\n",
       "    </tr>\n",
       "  </thead>\n",
       "  <tbody>\n",
       "    <tr>\n",
       "      <th>0</th>\n",
       "      <td>M1B</td>\n",
       "      <td>Scarborough</td>\n",
       "      <td>Malvern, Rouge</td>\n",
       "    </tr>\n",
       "    <tr>\n",
       "      <th>1</th>\n",
       "      <td>M1C</td>\n",
       "      <td>Scarborough</td>\n",
       "      <td>Rouge Hill, Port Union, Highland Creek</td>\n",
       "    </tr>\n",
       "    <tr>\n",
       "      <th>2</th>\n",
       "      <td>M1E</td>\n",
       "      <td>Scarborough</td>\n",
       "      <td>Guildwood, Morningside, West Hill</td>\n",
       "    </tr>\n",
       "    <tr>\n",
       "      <th>3</th>\n",
       "      <td>M1G</td>\n",
       "      <td>Scarborough</td>\n",
       "      <td>Woburn</td>\n",
       "    </tr>\n",
       "    <tr>\n",
       "      <th>4</th>\n",
       "      <td>M1H</td>\n",
       "      <td>Scarborough</td>\n",
       "      <td>Cedarbrae</td>\n",
       "    </tr>\n",
       "  </tbody>\n",
       "</table>\n",
       "</div>"
      ],
      "text/plain": [
       "  Postcode      Borough                           Neighbourhood\n",
       "0      M1B  Scarborough                          Malvern, Rouge\n",
       "1      M1C  Scarborough  Rouge Hill, Port Union, Highland Creek\n",
       "2      M1E  Scarborough       Guildwood, Morningside, West Hill\n",
       "3      M1G  Scarborough                                  Woburn\n",
       "4      M1H  Scarborough                               Cedarbrae"
      ]
     },
     "execution_count": 5,
     "metadata": {},
     "output_type": "execute_result"
    }
   ],
   "source": [
    "dfpostC = dfpostC.groupby(['Postcode', 'Borough'])['Neighbourhood'].apply(', '.join).reset_index()\n",
    "dfpostC.columns = ['Postcode', 'Borough', 'Neighbourhood']\n",
    "dfpostC.head()"
   ]
  },
  {
   "cell_type": "code",
   "execution_count": 6,
   "metadata": {},
   "outputs": [
    {
     "data": {
      "text/html": [
       "<div>\n",
       "<style scoped>\n",
       "    .dataframe tbody tr th:only-of-type {\n",
       "        vertical-align: middle;\n",
       "    }\n",
       "\n",
       "    .dataframe tbody tr th {\n",
       "        vertical-align: top;\n",
       "    }\n",
       "\n",
       "    .dataframe thead th {\n",
       "        text-align: right;\n",
       "    }\n",
       "</style>\n",
       "<table border=\"1\" class=\"dataframe\">\n",
       "  <thead>\n",
       "    <tr style=\"text-align: right;\">\n",
       "      <th></th>\n",
       "      <th>Postcode</th>\n",
       "      <th>Borough</th>\n",
       "      <th>Neighbourhood</th>\n",
       "    </tr>\n",
       "  </thead>\n",
       "  <tbody>\n",
       "    <tr>\n",
       "      <th>0</th>\n",
       "      <td>M1B</td>\n",
       "      <td>Scarborough</td>\n",
       "      <td>Malvern, Rouge</td>\n",
       "    </tr>\n",
       "    <tr>\n",
       "      <th>1</th>\n",
       "      <td>M1C</td>\n",
       "      <td>Scarborough</td>\n",
       "      <td>Rouge Hill, Port Union, Highland Creek</td>\n",
       "    </tr>\n",
       "    <tr>\n",
       "      <th>2</th>\n",
       "      <td>M1E</td>\n",
       "      <td>Scarborough</td>\n",
       "      <td>Guildwood, Morningside, West Hill</td>\n",
       "    </tr>\n",
       "    <tr>\n",
       "      <th>3</th>\n",
       "      <td>M1G</td>\n",
       "      <td>Scarborough</td>\n",
       "      <td>Woburn</td>\n",
       "    </tr>\n",
       "    <tr>\n",
       "      <th>4</th>\n",
       "      <td>M1H</td>\n",
       "      <td>Scarborough</td>\n",
       "      <td>Cedarbrae</td>\n",
       "    </tr>\n",
       "  </tbody>\n",
       "</table>\n",
       "</div>"
      ],
      "text/plain": [
       "  Postcode      Borough                           Neighbourhood\n",
       "0      M1B  Scarborough                          Malvern, Rouge\n",
       "1      M1C  Scarborough  Rouge Hill, Port Union, Highland Creek\n",
       "2      M1E  Scarborough       Guildwood, Morningside, West Hill\n",
       "3      M1G  Scarborough                                  Woburn\n",
       "4      M1H  Scarborough                               Cedarbrae"
      ]
     },
     "execution_count": 6,
     "metadata": {},
     "output_type": "execute_result"
    }
   ],
   "source": [
    "dfpostC['Neighbourhood'].replace('Not assigned', \"Queen's Park\", inplace=True)\n",
    "df_pN = dfpostC\n",
    "df_pN.head()"
   ]
  },
  {
   "cell_type": "markdown",
   "metadata": {},
   "source": [
    "# <B> 2) Latitude and Longitude Datas <B>"
   ]
  },
  {
   "cell_type": "code",
   "execution_count": 7,
   "metadata": {},
   "outputs": [
    {
     "data": {
      "text/html": [
       "<div>\n",
       "<style scoped>\n",
       "    .dataframe tbody tr th:only-of-type {\n",
       "        vertical-align: middle;\n",
       "    }\n",
       "\n",
       "    .dataframe tbody tr th {\n",
       "        vertical-align: top;\n",
       "    }\n",
       "\n",
       "    .dataframe thead th {\n",
       "        text-align: right;\n",
       "    }\n",
       "</style>\n",
       "<table border=\"1\" class=\"dataframe\">\n",
       "  <thead>\n",
       "    <tr style=\"text-align: right;\">\n",
       "      <th></th>\n",
       "      <th>Postcode</th>\n",
       "      <th>Latitude</th>\n",
       "      <th>Longitude</th>\n",
       "    </tr>\n",
       "  </thead>\n",
       "  <tbody>\n",
       "    <tr>\n",
       "      <th>0</th>\n",
       "      <td>M1B</td>\n",
       "      <td>43.806686</td>\n",
       "      <td>-79.194353</td>\n",
       "    </tr>\n",
       "    <tr>\n",
       "      <th>1</th>\n",
       "      <td>M1C</td>\n",
       "      <td>43.784535</td>\n",
       "      <td>-79.160497</td>\n",
       "    </tr>\n",
       "    <tr>\n",
       "      <th>2</th>\n",
       "      <td>M1E</td>\n",
       "      <td>43.763573</td>\n",
       "      <td>-79.188711</td>\n",
       "    </tr>\n",
       "    <tr>\n",
       "      <th>3</th>\n",
       "      <td>M1G</td>\n",
       "      <td>43.770992</td>\n",
       "      <td>-79.216917</td>\n",
       "    </tr>\n",
       "    <tr>\n",
       "      <th>4</th>\n",
       "      <td>M1H</td>\n",
       "      <td>43.773136</td>\n",
       "      <td>-79.239476</td>\n",
       "    </tr>\n",
       "  </tbody>\n",
       "</table>\n",
       "</div>"
      ],
      "text/plain": [
       "  Postcode   Latitude  Longitude\n",
       "0      M1B  43.806686 -79.194353\n",
       "1      M1C  43.784535 -79.160497\n",
       "2      M1E  43.763573 -79.188711\n",
       "3      M1G  43.770992 -79.216917\n",
       "4      M1H  43.773136 -79.239476"
      ]
     },
     "execution_count": 7,
     "metadata": {},
     "output_type": "execute_result"
    }
   ],
   "source": [
    "geospatial_url = \"https://cocl.us/Geospatial_data\"\n",
    "geospatial_data = pd.read_csv(geospatial_url)\n",
    "geospatial_data.columns = ['Postcode', 'Latitude', 'Longitude']\n",
    "geospatial_data.head()"
   ]
  },
  {
   "cell_type": "markdown",
   "metadata": {},
   "source": [
    "## The next output is the final dataframe to secont part"
   ]
  },
  {
   "cell_type": "code",
   "execution_count": 9,
   "metadata": {},
   "outputs": [
    {
     "data": {
      "text/html": [
       "<div>\n",
       "<style scoped>\n",
       "    .dataframe tbody tr th:only-of-type {\n",
       "        vertical-align: middle;\n",
       "    }\n",
       "\n",
       "    .dataframe tbody tr th {\n",
       "        vertical-align: top;\n",
       "    }\n",
       "\n",
       "    .dataframe thead th {\n",
       "        text-align: right;\n",
       "    }\n",
       "</style>\n",
       "<table border=\"1\" class=\"dataframe\">\n",
       "  <thead>\n",
       "    <tr style=\"text-align: right;\">\n",
       "      <th></th>\n",
       "      <th>Postcode</th>\n",
       "      <th>Borough</th>\n",
       "      <th>Neighbourhood</th>\n",
       "      <th>Latitude</th>\n",
       "      <th>Longitude</th>\n",
       "    </tr>\n",
       "  </thead>\n",
       "  <tbody>\n",
       "    <tr>\n",
       "      <th>0</th>\n",
       "      <td>M1B</td>\n",
       "      <td>Scarborough</td>\n",
       "      <td>Malvern, Rouge</td>\n",
       "      <td>43.806686</td>\n",
       "      <td>-79.194353</td>\n",
       "    </tr>\n",
       "    <tr>\n",
       "      <th>1</th>\n",
       "      <td>M1C</td>\n",
       "      <td>Scarborough</td>\n",
       "      <td>Rouge Hill, Port Union, Highland Creek</td>\n",
       "      <td>43.784535</td>\n",
       "      <td>-79.160497</td>\n",
       "    </tr>\n",
       "    <tr>\n",
       "      <th>2</th>\n",
       "      <td>M1E</td>\n",
       "      <td>Scarborough</td>\n",
       "      <td>Guildwood, Morningside, West Hill</td>\n",
       "      <td>43.763573</td>\n",
       "      <td>-79.188711</td>\n",
       "    </tr>\n",
       "    <tr>\n",
       "      <th>3</th>\n",
       "      <td>M1G</td>\n",
       "      <td>Scarborough</td>\n",
       "      <td>Woburn</td>\n",
       "      <td>43.770992</td>\n",
       "      <td>-79.216917</td>\n",
       "    </tr>\n",
       "    <tr>\n",
       "      <th>4</th>\n",
       "      <td>M1H</td>\n",
       "      <td>Scarborough</td>\n",
       "      <td>Cedarbrae</td>\n",
       "      <td>43.773136</td>\n",
       "      <td>-79.239476</td>\n",
       "    </tr>\n",
       "  </tbody>\n",
       "</table>\n",
       "</div>"
      ],
      "text/plain": [
       "  Postcode      Borough                           Neighbourhood   Latitude  \\\n",
       "0      M1B  Scarborough                          Malvern, Rouge  43.806686   \n",
       "1      M1C  Scarborough  Rouge Hill, Port Union, Highland Creek  43.784535   \n",
       "2      M1E  Scarborough       Guildwood, Morningside, West Hill  43.763573   \n",
       "3      M1G  Scarborough                                  Woburn  43.770992   \n",
       "4      M1H  Scarborough                               Cedarbrae  43.773136   \n",
       "\n",
       "   Longitude  \n",
       "0 -79.194353  \n",
       "1 -79.160497  \n",
       "2 -79.188711  \n",
       "3 -79.216917  \n",
       "4 -79.239476  "
      ]
     },
     "execution_count": 9,
     "metadata": {},
     "output_type": "execute_result"
    }
   ],
   "source": [
    "merged_data = pd.merge(dfpostC, geospatial_data, on='Postcode')\n",
    "merged_data.head()"
   ]
  },
  {
   "cell_type": "code",
   "execution_count": 11,
   "metadata": {},
   "outputs": [
    {
     "data": {
      "text/html": [
       "<div>\n",
       "<style scoped>\n",
       "    .dataframe tbody tr th:only-of-type {\n",
       "        vertical-align: middle;\n",
       "    }\n",
       "\n",
       "    .dataframe tbody tr th {\n",
       "        vertical-align: top;\n",
       "    }\n",
       "\n",
       "    .dataframe thead th {\n",
       "        text-align: right;\n",
       "    }\n",
       "</style>\n",
       "<table border=\"1\" class=\"dataframe\">\n",
       "  <thead>\n",
       "    <tr style=\"text-align: right;\">\n",
       "      <th></th>\n",
       "      <th>Postcode</th>\n",
       "      <th>Borough</th>\n",
       "      <th>Neighbourhood</th>\n",
       "      <th>Latitude</th>\n",
       "      <th>Longitude</th>\n",
       "      <th>Coordinates</th>\n",
       "    </tr>\n",
       "  </thead>\n",
       "  <tbody>\n",
       "    <tr>\n",
       "      <th>0</th>\n",
       "      <td>M1B</td>\n",
       "      <td>Scarborough</td>\n",
       "      <td>Malvern, Rouge</td>\n",
       "      <td>43.806686</td>\n",
       "      <td>-79.194353</td>\n",
       "      <td>POINT (43.80669 -79.19435)</td>\n",
       "    </tr>\n",
       "    <tr>\n",
       "      <th>1</th>\n",
       "      <td>M1C</td>\n",
       "      <td>Scarborough</td>\n",
       "      <td>Rouge Hill, Port Union, Highland Creek</td>\n",
       "      <td>43.784535</td>\n",
       "      <td>-79.160497</td>\n",
       "      <td>POINT (43.78454 -79.16050)</td>\n",
       "    </tr>\n",
       "    <tr>\n",
       "      <th>2</th>\n",
       "      <td>M1E</td>\n",
       "      <td>Scarborough</td>\n",
       "      <td>Guildwood, Morningside, West Hill</td>\n",
       "      <td>43.763573</td>\n",
       "      <td>-79.188711</td>\n",
       "      <td>POINT (43.76357 -79.18871)</td>\n",
       "    </tr>\n",
       "    <tr>\n",
       "      <th>3</th>\n",
       "      <td>M1G</td>\n",
       "      <td>Scarborough</td>\n",
       "      <td>Woburn</td>\n",
       "      <td>43.770992</td>\n",
       "      <td>-79.216917</td>\n",
       "      <td>POINT (43.77099 -79.21692)</td>\n",
       "    </tr>\n",
       "    <tr>\n",
       "      <th>4</th>\n",
       "      <td>M1H</td>\n",
       "      <td>Scarborough</td>\n",
       "      <td>Cedarbrae</td>\n",
       "      <td>43.773136</td>\n",
       "      <td>-79.239476</td>\n",
       "      <td>POINT (43.77314 -79.23948)</td>\n",
       "    </tr>\n",
       "  </tbody>\n",
       "</table>\n",
       "</div>"
      ],
      "text/plain": [
       "  Postcode      Borough                           Neighbourhood   Latitude  \\\n",
       "0      M1B  Scarborough                          Malvern, Rouge  43.806686   \n",
       "1      M1C  Scarborough  Rouge Hill, Port Union, Highland Creek  43.784535   \n",
       "2      M1E  Scarborough       Guildwood, Morningside, West Hill  43.763573   \n",
       "3      M1G  Scarborough                                  Woburn  43.770992   \n",
       "4      M1H  Scarborough                               Cedarbrae  43.773136   \n",
       "\n",
       "   Longitude                 Coordinates  \n",
       "0 -79.194353  POINT (43.80669 -79.19435)  \n",
       "1 -79.160497  POINT (43.78454 -79.16050)  \n",
       "2 -79.188711  POINT (43.76357 -79.18871)  \n",
       "3 -79.216917  POINT (43.77099 -79.21692)  \n",
       "4 -79.239476  POINT (43.77314 -79.23948)  "
      ]
     },
     "execution_count": 11,
     "metadata": {},
     "output_type": "execute_result"
    }
   ],
   "source": [
    "merged_data['Coordinates'] = list(zip(merged_data['Latitude'], merged_data['Longitude']))\n",
    "merged_data.head()\n",
    "merged_data['Coordinates'] = merged_data['Coordinates'].apply(Point)\n",
    "\n",
    "gdf = gpd.GeoDataFrame(merged_data, geometry='Coordinates')\n",
    "merged_data\n",
    "canada = merged_data\n",
    "canada.head()"
   ]
  },
  {
   "cell_type": "markdown",
   "metadata": {},
   "source": [
    "# <B> 3) Cluster Map of Toronto <B>"
   ]
  },
  {
   "cell_type": "code",
   "execution_count": 57,
   "metadata": {},
   "outputs": [
    {
     "name": "stdout",
     "output_type": "stream",
     "text": [
      "Datos de direccion y mapa obtenidos\n"
     ]
    }
   ],
   "source": [
    "address = 'Toronto, Ca'\n",
    "geolocator = Nominatim(user_agent=\"toronto\")\n",
    "location = geolocator.geocode(address)\n",
    "latitude = location.latitude\n",
    "longitude = location.longitude\n",
    "print(\"Datos de direccion y mapa obtenidos\")"
   ]
  },
  {
   "cell_type": "code",
   "execution_count": 16,
   "metadata": {},
   "outputs": [],
   "source": [
    "from sklearn import preprocessing\n",
    "from sklearn.model_selection import train_test_split\n",
    "\n",
    "from sklearn.metrics import f1_score\n",
    "from sklearn.metrics import log_loss\n",
    "from sklearn.model_selection import cross_val_score\n",
    "from sklearn.neighbors import KNeighborsClassifier\n",
    "\n",
    "### no se pudo importar probar como from sklearn.metrics import jaccard_similarity_score"
   ]
  },
  {
   "cell_type": "markdown",
   "metadata": {},
   "source": [
    "## The following cells build the cluster map"
   ]
  },
  {
   "cell_type": "code",
   "execution_count": 35,
   "metadata": {},
   "outputs": [],
   "source": [
    "# Y = postcode x = Coordenadas  'Latitude'], canada['Longitude']\n",
    "X = merged_data[[ 'Latitude','Longitude']]\n",
    "canada_b = merged_data"
   ]
  },
  {
   "cell_type": "code",
   "execution_count": 51,
   "metadata": {},
   "outputs": [
    {
     "data": {
      "text/html": [
       "<div>\n",
       "<style scoped>\n",
       "    .dataframe tbody tr th:only-of-type {\n",
       "        vertical-align: middle;\n",
       "    }\n",
       "\n",
       "    .dataframe tbody tr th {\n",
       "        vertical-align: top;\n",
       "    }\n",
       "\n",
       "    .dataframe thead th {\n",
       "        text-align: right;\n",
       "    }\n",
       "</style>\n",
       "<table border=\"1\" class=\"dataframe\">\n",
       "  <thead>\n",
       "    <tr style=\"text-align: right;\">\n",
       "      <th></th>\n",
       "      <th>Postcode</th>\n",
       "      <th>Borough</th>\n",
       "      <th>Neighbourhood</th>\n",
       "      <th>Latitude</th>\n",
       "      <th>Longitude</th>\n",
       "      <th>Coordinates</th>\n",
       "      <th>Cluster Labels</th>\n",
       "    </tr>\n",
       "  </thead>\n",
       "  <tbody>\n",
       "    <tr>\n",
       "      <th>0</th>\n",
       "      <td>M1B</td>\n",
       "      <td>Scarborough</td>\n",
       "      <td>Malvern, Rouge</td>\n",
       "      <td>43.806686</td>\n",
       "      <td>-79.194353</td>\n",
       "      <td>POINT (43.80669 -79.19435)</td>\n",
       "      <td>4</td>\n",
       "    </tr>\n",
       "    <tr>\n",
       "      <th>1</th>\n",
       "      <td>M1C</td>\n",
       "      <td>Scarborough</td>\n",
       "      <td>Rouge Hill, Port Union, Highland Creek</td>\n",
       "      <td>43.784535</td>\n",
       "      <td>-79.160497</td>\n",
       "      <td>POINT (43.78454 -79.16050)</td>\n",
       "      <td>4</td>\n",
       "    </tr>\n",
       "    <tr>\n",
       "      <th>2</th>\n",
       "      <td>M1E</td>\n",
       "      <td>Scarborough</td>\n",
       "      <td>Guildwood, Morningside, West Hill</td>\n",
       "      <td>43.763573</td>\n",
       "      <td>-79.188711</td>\n",
       "      <td>POINT (43.76357 -79.18871)</td>\n",
       "      <td>4</td>\n",
       "    </tr>\n",
       "    <tr>\n",
       "      <th>3</th>\n",
       "      <td>M1G</td>\n",
       "      <td>Scarborough</td>\n",
       "      <td>Woburn</td>\n",
       "      <td>43.770992</td>\n",
       "      <td>-79.216917</td>\n",
       "      <td>POINT (43.77099 -79.21692)</td>\n",
       "      <td>4</td>\n",
       "    </tr>\n",
       "    <tr>\n",
       "      <th>4</th>\n",
       "      <td>M1H</td>\n",
       "      <td>Scarborough</td>\n",
       "      <td>Cedarbrae</td>\n",
       "      <td>43.773136</td>\n",
       "      <td>-79.239476</td>\n",
       "      <td>POINT (43.77314 -79.23948)</td>\n",
       "      <td>4</td>\n",
       "    </tr>\n",
       "  </tbody>\n",
       "</table>\n",
       "</div>"
      ],
      "text/plain": [
       "  Postcode      Borough                           Neighbourhood   Latitude  \\\n",
       "0      M1B  Scarborough                          Malvern, Rouge  43.806686   \n",
       "1      M1C  Scarborough  Rouge Hill, Port Union, Highland Creek  43.784535   \n",
       "2      M1E  Scarborough       Guildwood, Morningside, West Hill  43.763573   \n",
       "3      M1G  Scarborough                                  Woburn  43.770992   \n",
       "4      M1H  Scarborough                               Cedarbrae  43.773136   \n",
       "\n",
       "   Longitude                 Coordinates  Cluster Labels  \n",
       "0 -79.194353  POINT (43.80669 -79.19435)               4  \n",
       "1 -79.160497  POINT (43.78454 -79.16050)               4  \n",
       "2 -79.188711  POINT (43.76357 -79.18871)               4  \n",
       "3 -79.216917  POINT (43.77099 -79.21692)               4  \n",
       "4 -79.239476  POINT (43.77314 -79.23948)               4  "
      ]
     },
     "execution_count": 51,
     "metadata": {},
     "output_type": "execute_result"
    }
   ],
   "source": [
    "segmetos = 6\n",
    "\n",
    "clusters_ca = KMeans(n_clusters=segmetos, random_state=0).fit(X) \n",
    "\n",
    "label = clusters_ca.labels_[0:].tolist()\n",
    "#'Cluster Labels'\n",
    "canada_b['Cluster Labels'] = label\n",
    "canada_b.head()"
   ]
  },
  {
   "cell_type": "code",
   "execution_count": 55,
   "metadata": {},
   "outputs": [
    {
     "data": {
      "text/html": [
       "<div style=\"width:100%;\"><div style=\"position:relative;width:100%;height:0;padding-bottom:60%;\"><span style=\"color:#565656\">Make this Notebook Trusted to load map: File -> Trust Notebook</span><iframe src=\"about:blank\" style=\"position:absolute;width:100%;height:100%;left:0;top:0;border:none !important;\" data-html=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 onload=\"this.contentDocument.open();this.contentDocument.write(atob(this.getAttribute('data-html')));this.contentDocument.close();\" allowfullscreen webkitallowfullscreen mozallowfullscreen></iframe></div></div>"
      ],
      "text/plain": [
       "<folium.folium.Map at 0x7ff37c5d1dd8>"
      ]
     },
     "execution_count": 55,
     "metadata": {},
     "output_type": "execute_result"
    }
   ],
   "source": [
    "# create map\n",
    "map_clusters = folium.Map(location=[latitude, longitude], zoom_start=11)\n",
    "\n",
    "# set color scheme for the clusters\n",
    "x = np.arange(segmetos)\n",
    "ys = [i + x + (i*x)**2 for i in range(segmetos)]\n",
    "colors_array = cm.rainbow(np.linspace(0, 1, len(ys)))\n",
    "rainbow = [colors.rgb2hex(i) for i in colors_array]\n",
    "\n",
    "# add markers to the map\n",
    "markers_colors = []\n",
    "for lat, lon, poi, cluster in zip(canada_b['Latitude'], canada_b['Longitude'], canada_b['Neighbourhood'], canada_b['Cluster Labels']):\n",
    "    label = folium.Popup(str(poi) + ' Cluster ' + str(cluster), parse_html=True)\n",
    "    folium.CircleMarker(\n",
    "        [lat, lon],\n",
    "        radius=5,\n",
    "        popup=label,\n",
    "        color=rainbow[cluster-1],\n",
    "        fill=True,\n",
    "        fill_color=rainbow[cluster-1],\n",
    "        fill_opacity=0.7).add_to(map_clusters)\n",
    "       \n",
    "map_clusters"
   ]
  },
  {
   "cell_type": "code",
   "execution_count": null,
   "metadata": {},
   "outputs": [],
   "source": []
  }
 ],
 "metadata": {
  "kernelspec": {
   "display_name": "Python 3",
   "language": "python",
   "name": "python3"
  },
  "language_info": {
   "codemirror_mode": {
    "name": "ipython",
    "version": 3
   },
   "file_extension": ".py",
   "mimetype": "text/x-python",
   "name": "python",
   "nbconvert_exporter": "python",
   "pygments_lexer": "ipython3",
   "version": "3.6.9"
  }
 },
 "nbformat": 4,
 "nbformat_minor": 4
}
